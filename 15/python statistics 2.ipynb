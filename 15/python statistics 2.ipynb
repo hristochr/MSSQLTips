{
 "cells": [
  {
   "cell_type": "code",
   "execution_count": 2,
   "metadata": {},
   "outputs": [],
   "source": [
    "import pandas as pd\n",
    "from sqlalchemy import create_engine\n",
    "import statistics as st"
   ]
  },
  {
   "cell_type": "code",
   "execution_count": 3,
   "metadata": {},
   "outputs": [],
   "source": [
    "engine = create_engine(\n",
    "    'mssql+pyodbc://'\n",
    "    '@./AdventureWorksDW2019?'  # username:pwd@server:port/database\n",
    "    'driver=ODBC+Driver+17+for+SQL+Server'\n",
    ")"
   ]
  },
  {
   "cell_type": "markdown",
   "metadata": {},
   "source": [
    "## mean"
   ]
  },
  {
   "cell_type": "markdown",
   "metadata": {},
   "source": [
    "### query\n",
    "- mean, median, qunatile. Calculate for each year:\n",
    "```\n",
    "SELECT SalesAmount\n",
    "      ,OrderDate\n",
    "      ,YEAR(OrderDate)\n",
    "  FROM [AdventureWorksDW2019].[dbo].[FactInternetSales]\n",
    "```\n"
   ]
  },
  {
   "cell_type": "code",
   "execution_count": 13,
   "metadata": {},
   "outputs": [
    {
     "data": {
      "text/html": [
       "<div>\n",
       "<style scoped>\n",
       "    .dataframe tbody tr th:only-of-type {\n",
       "        vertical-align: middle;\n",
       "    }\n",
       "\n",
       "    .dataframe tbody tr th {\n",
       "        vertical-align: top;\n",
       "    }\n",
       "\n",
       "    .dataframe thead th {\n",
       "        text-align: right;\n",
       "    }\n",
       "</style>\n",
       "<table border=\"1\" class=\"dataframe\">\n",
       "  <thead>\n",
       "    <tr style=\"text-align: right;\">\n",
       "      <th></th>\n",
       "      <th>SalesAmount</th>\n",
       "      <th>OrderDate</th>\n",
       "      <th>year</th>\n",
       "    </tr>\n",
       "  </thead>\n",
       "  <tbody>\n",
       "    <tr>\n",
       "      <th>0</th>\n",
       "      <td>3578.2700</td>\n",
       "      <td>2010-12-29</td>\n",
       "      <td>2010</td>\n",
       "    </tr>\n",
       "    <tr>\n",
       "      <th>1</th>\n",
       "      <td>3399.9900</td>\n",
       "      <td>2010-12-29</td>\n",
       "      <td>2010</td>\n",
       "    </tr>\n",
       "    <tr>\n",
       "      <th>2</th>\n",
       "      <td>3399.9900</td>\n",
       "      <td>2010-12-29</td>\n",
       "      <td>2010</td>\n",
       "    </tr>\n",
       "    <tr>\n",
       "      <th>3</th>\n",
       "      <td>699.0982</td>\n",
       "      <td>2010-12-29</td>\n",
       "      <td>2010</td>\n",
       "    </tr>\n",
       "    <tr>\n",
       "      <th>4</th>\n",
       "      <td>3399.9900</td>\n",
       "      <td>2010-12-29</td>\n",
       "      <td>2010</td>\n",
       "    </tr>\n",
       "    <tr>\n",
       "      <th>...</th>\n",
       "      <td>...</td>\n",
       "      <td>...</td>\n",
       "      <td>...</td>\n",
       "    </tr>\n",
       "    <tr>\n",
       "      <th>60393</th>\n",
       "      <td>21.9800</td>\n",
       "      <td>2014-01-28</td>\n",
       "      <td>2014</td>\n",
       "    </tr>\n",
       "    <tr>\n",
       "      <th>60394</th>\n",
       "      <td>8.9900</td>\n",
       "      <td>2014-01-28</td>\n",
       "      <td>2014</td>\n",
       "    </tr>\n",
       "    <tr>\n",
       "      <th>60395</th>\n",
       "      <td>21.9800</td>\n",
       "      <td>2014-01-28</td>\n",
       "      <td>2014</td>\n",
       "    </tr>\n",
       "    <tr>\n",
       "      <th>60396</th>\n",
       "      <td>159.0000</td>\n",
       "      <td>2014-01-28</td>\n",
       "      <td>2014</td>\n",
       "    </tr>\n",
       "    <tr>\n",
       "      <th>60397</th>\n",
       "      <td>8.9900</td>\n",
       "      <td>2014-01-28</td>\n",
       "      <td>2014</td>\n",
       "    </tr>\n",
       "  </tbody>\n",
       "</table>\n",
       "<p>60398 rows × 3 columns</p>\n",
       "</div>"
      ],
      "text/plain": [
       "       SalesAmount  OrderDate  year\n",
       "0        3578.2700 2010-12-29  2010\n",
       "1        3399.9900 2010-12-29  2010\n",
       "2        3399.9900 2010-12-29  2010\n",
       "3         699.0982 2010-12-29  2010\n",
       "4        3399.9900 2010-12-29  2010\n",
       "...            ...        ...   ...\n",
       "60393      21.9800 2014-01-28  2014\n",
       "60394       8.9900 2014-01-28  2014\n",
       "60395      21.9800 2014-01-28  2014\n",
       "60396     159.0000 2014-01-28  2014\n",
       "60397       8.9900 2014-01-28  2014\n",
       "\n",
       "[60398 rows x 3 columns]"
      ]
     },
     "execution_count": 13,
     "metadata": {},
     "output_type": "execute_result"
    }
   ],
   "source": [
    "df1 = pd.read_sql(\n",
    "    'SELECT SalesAmount\\\n",
    "      ,OrderDate\\\n",
    "      ,YEAR(OrderDate) year\\\n",
    "  FROM [AdventureWorksDW2019].[dbo].[FactInternetSales]',\n",
    "    engine,\n",
    "    coerce_float=True)\n",
    "df1"
   ]
  },
  {
   "cell_type": "code",
   "execution_count": 15,
   "metadata": {},
   "outputs": [
    {
     "data": {
      "text/plain": [
       "{2010: 3489.13, 2011: 3578.27, 2012: 2071.4196, 2013: 24.99, 2014: 21.98}"
      ]
     },
     "execution_count": 15,
     "metadata": {},
     "output_type": "execute_result"
    }
   ],
   "source": [
    "years = df1.year.unique()\n",
    "means = {}\n",
    "for year in years:\n",
    "    current_year_sales = df1[df1.year==year].SalesAmount\n",
    "    current_mean = st.median(current_year_sales)\n",
    "    means[year]= current_mean\n",
    "means"
   ]
  },
  {
   "cell_type": "code",
   "execution_count": 43,
   "metadata": {},
   "outputs": [
    {
     "data": {
      "text/plain": [
       "(699.0982, 3101.5026, 3578.27)"
      ]
     },
     "execution_count": 43,
     "metadata": {},
     "output_type": "execute_result"
    }
   ],
   "source": [
    "df_2010=df[df['year']==2010]\n",
    "min(df_2010['SalesAmount']),st.mean(df_2010['SalesAmount']),max(df_2010['SalesAmount'])\n"
   ]
  },
  {
   "cell_type": "markdown",
   "metadata": {},
   "source": [
    "## quantiles"
   ]
  },
  {
   "cell_type": "code",
   "execution_count": 7,
   "metadata": {},
   "outputs": [
    {
     "data": {
      "text/plain": [
       "[4.99,\n",
       " 4.99,\n",
       " 8.99,\n",
       " 21.98,\n",
       " 29.99,\n",
       " 34.989999999999995,\n",
       " 53.989999999999995,\n",
       " 769.49,\n",
       " 2294.9899999999993]"
      ]
     },
     "execution_count": 7,
     "metadata": {},
     "output_type": "execute_result"
    }
   ],
   "source": [
    "dec = st.quantiles(df1.SalesAmount, n = 10)\n",
    "dec"
   ]
  },
  {
   "cell_type": "markdown",
   "metadata": {},
   "source": [
    "## spread"
   ]
  },
  {
   "cell_type": "markdown",
   "metadata": {},
   "source": [
    "### query\n",
    "```\n",
    "SELECT f.SalesTerritoryKey,\n",
    "        st.SalesTerritoryKey,\n",
    "        st.SalesTerritoryCountry,\n",
    "        f.SalesAmount\n",
    "  FROM [AdventureWorksDW2019].[dbo].[FactInternetSales] as f\n",
    "  JOIN DimSalesTerritory as st ON f.SalesTerritoryKey = st.SalesTerritoryKey\n",
    "```\n",
    "calculate per country"
   ]
  },
  {
   "cell_type": "code",
   "execution_count": 16,
   "metadata": {},
   "outputs": [
    {
     "data": {
      "text/html": [
       "<div>\n",
       "<style scoped>\n",
       "    .dataframe tbody tr th:only-of-type {\n",
       "        vertical-align: middle;\n",
       "    }\n",
       "\n",
       "    .dataframe tbody tr th {\n",
       "        vertical-align: top;\n",
       "    }\n",
       "\n",
       "    .dataframe thead th {\n",
       "        text-align: right;\n",
       "    }\n",
       "</style>\n",
       "<table border=\"1\" class=\"dataframe\">\n",
       "  <thead>\n",
       "    <tr style=\"text-align: right;\">\n",
       "      <th></th>\n",
       "      <th>SalesTerritoryCountry</th>\n",
       "      <th>SalesAmount</th>\n",
       "    </tr>\n",
       "  </thead>\n",
       "  <tbody>\n",
       "    <tr>\n",
       "      <th>0</th>\n",
       "      <td>Canada</td>\n",
       "      <td>3578.2700</td>\n",
       "    </tr>\n",
       "    <tr>\n",
       "      <th>1</th>\n",
       "      <td>France</td>\n",
       "      <td>3399.9900</td>\n",
       "    </tr>\n",
       "    <tr>\n",
       "      <th>2</th>\n",
       "      <td>United States</td>\n",
       "      <td>3399.9900</td>\n",
       "    </tr>\n",
       "    <tr>\n",
       "      <th>3</th>\n",
       "      <td>United States</td>\n",
       "      <td>699.0982</td>\n",
       "    </tr>\n",
       "    <tr>\n",
       "      <th>4</th>\n",
       "      <td>Australia</td>\n",
       "      <td>3399.9900</td>\n",
       "    </tr>\n",
       "    <tr>\n",
       "      <th>...</th>\n",
       "      <td>...</td>\n",
       "      <td>...</td>\n",
       "    </tr>\n",
       "    <tr>\n",
       "      <th>60393</th>\n",
       "      <td>Canada</td>\n",
       "      <td>21.9800</td>\n",
       "    </tr>\n",
       "    <tr>\n",
       "      <th>60394</th>\n",
       "      <td>Canada</td>\n",
       "      <td>8.9900</td>\n",
       "    </tr>\n",
       "    <tr>\n",
       "      <th>60395</th>\n",
       "      <td>Canada</td>\n",
       "      <td>21.9800</td>\n",
       "    </tr>\n",
       "    <tr>\n",
       "      <th>60396</th>\n",
       "      <td>Canada</td>\n",
       "      <td>159.0000</td>\n",
       "    </tr>\n",
       "    <tr>\n",
       "      <th>60397</th>\n",
       "      <td>Canada</td>\n",
       "      <td>8.9900</td>\n",
       "    </tr>\n",
       "  </tbody>\n",
       "</table>\n",
       "<p>60398 rows × 2 columns</p>\n",
       "</div>"
      ],
      "text/plain": [
       "      SalesTerritoryCountry  SalesAmount\n",
       "0                    Canada    3578.2700\n",
       "1                    France    3399.9900\n",
       "2             United States    3399.9900\n",
       "3             United States     699.0982\n",
       "4                 Australia    3399.9900\n",
       "...                     ...          ...\n",
       "60393                Canada      21.9800\n",
       "60394                Canada       8.9900\n",
       "60395                Canada      21.9800\n",
       "60396                Canada     159.0000\n",
       "60397                Canada       8.9900\n",
       "\n",
       "[60398 rows x 2 columns]"
      ]
     },
     "execution_count": 16,
     "metadata": {},
     "output_type": "execute_result"
    }
   ],
   "source": [
    "df2 = pd.read_sql(\n",
    "    'SELECT st.SalesTerritoryCountry,\\\n",
    "        f.SalesAmount\\\n",
    "  FROM [AdventureWorksDW2019].[dbo].[FactInternetSales] as f\\\n",
    "  JOIN DimSalesTerritory as st ON f.SalesTerritoryKey = st.SalesTerritoryKey',\n",
    "    engine,\n",
    "    coerce_float=True)\n",
    "df2"
   ]
  },
  {
   "cell_type": "code",
   "execution_count": 33,
   "metadata": {},
   "outputs": [
    {
     "name": "stdout",
     "output_type": "stream",
     "text": [
      "1074.0841787567435\n"
     ]
    }
   ],
   "source": [
    "#st.variance(df2[df2.SalesTerritoryCountry=='Australia'].SalesAmount)\n",
    "a = df2[df2.SalesTerritoryCountry=='Australia'].SalesAmount\n",
    "\n",
    "import numpy as np \n",
    "print(np.std(a))"
   ]
  },
  {
   "cell_type": "code",
   "execution_count": 32,
   "metadata": {},
   "outputs": [
    {
     "data": {
      "text/plain": [
       "{'Canada': (522192.34124361194, 722.6287713920696),\n",
       " 'France': (787371.4512934005, 887.3395355180567),\n",
       " 'United States': (798403.5634533941, 893.5343101713521),\n",
       " 'Australia': (1153743.2781531992, 1074.1244239626988),\n",
       " 'United Kingdom': (810769.4795483286, 900.4273871603021),\n",
       " 'Germany': (843037.8647697782, 918.1709343960841)}"
      ]
     },
     "execution_count": 32,
     "metadata": {},
     "output_type": "execute_result"
    }
   ],
   "source": [
    "countries = df2.SalesTerritoryCountry.unique()\n",
    "var_country = {}\n",
    "for country in countries:\n",
    "    current_country_sales = df2[df2.SalesTerritoryCountry==country].SalesAmount\n",
    "    current_var = st.variance(current_country_sales)\n",
    "    current_std = st.stdev(current_country_sales)\n",
    "    var_country[country]= (current_var, current_std)\n",
    "var_country"
   ]
  },
  {
   "cell_type": "markdown",
   "metadata": {},
   "source": [
    "## correlation"
   ]
  },
  {
   "cell_type": "markdown",
   "metadata": {},
   "source": [
    "### query\n",
    "```\n",
    "\n",
    "  SELECT --f.ProductKey, \n",
    "        AVG(TotalProductCost),\n",
    "        --dp.EnglishProductName,\n",
    "        dpsc.EnglishProductSubcategoryName,\n",
    "        dpc.EnglishProductCategoryName,\n",
    "        YEAR(f.OrderDate)\n",
    "        --dp.EnglishProductName\n",
    "  FROM [AdventureWorksDW2019].[dbo].[FactInternetSales] as f\n",
    "  JOIN DimProduct as dp ON dp.ProductKey = f.ProductKey\n",
    "  JOIN DimProductSubcategory as dpsc ON dpsc.ProductSubcategoryKey = dp.ProductSubcategoryKey\n",
    "  JOIN DimProductCategory as dpc ON dpc.ProductCategoryKey = dpsc.ProductCategoryKey\n",
    "  WHERE dpc.EnglishProductCategoryName IN ('Clothing',  'Accessories') AND  YEAR(f.OrderDate) = 2013 AND  MONTH(f.OrderDate) IN (2,3,4) AND dpsc.EnglishProductSubcategoryName NOT IN ('Helmets','Bike Racks') # the two sequences must be of equal length\n",
    "  GROUP BY dpc.EnglishProductCategoryName,  YEAR(f.OrderDate), dpsc.EnglishProductSubcategoryName\n",
    "  ORDER BY YEAR(f.OrderDate) DESC, dpc.EnglishProductCategoryName ASC\n",
    "```"
   ]
  },
  {
   "cell_type": "code",
   "execution_count": 6,
   "metadata": {},
   "outputs": [
    {
     "data": {
      "text/html": [
       "<div>\n",
       "<style scoped>\n",
       "    .dataframe tbody tr th:only-of-type {\n",
       "        vertical-align: middle;\n",
       "    }\n",
       "\n",
       "    .dataframe tbody tr th {\n",
       "        vertical-align: top;\n",
       "    }\n",
       "\n",
       "    .dataframe thead th {\n",
       "        text-align: right;\n",
       "    }\n",
       "</style>\n",
       "<table border=\"1\" class=\"dataframe\">\n",
       "  <thead>\n",
       "    <tr style=\"text-align: right;\">\n",
       "      <th></th>\n",
       "      <th>AvgTotalProducCost</th>\n",
       "      <th>EnglishProductSubcategoryName</th>\n",
       "      <th>EnglishProductCategoryName</th>\n",
       "      <th></th>\n",
       "    </tr>\n",
       "  </thead>\n",
       "  <tbody>\n",
       "    <tr>\n",
       "      <th>0</th>\n",
       "      <td>8.2205</td>\n",
       "      <td>Fenders</td>\n",
       "      <td>Accessories</td>\n",
       "      <td>2013</td>\n",
       "    </tr>\n",
       "    <tr>\n",
       "      <th>1</th>\n",
       "      <td>5.2414</td>\n",
       "      <td>Tires and Tubes</td>\n",
       "      <td>Accessories</td>\n",
       "      <td>2013</td>\n",
       "    </tr>\n",
       "    <tr>\n",
       "      <th>2</th>\n",
       "      <td>20.5663</td>\n",
       "      <td>Hydration Packs</td>\n",
       "      <td>Accessories</td>\n",
       "      <td>2013</td>\n",
       "    </tr>\n",
       "    <tr>\n",
       "      <th>3</th>\n",
       "      <td>59.4660</td>\n",
       "      <td>Bike Stands</td>\n",
       "      <td>Accessories</td>\n",
       "      <td>2013</td>\n",
       "    </tr>\n",
       "    <tr>\n",
       "      <th>4</th>\n",
       "      <td>2.9733</td>\n",
       "      <td>Cleaners</td>\n",
       "      <td>Accessories</td>\n",
       "      <td>2013</td>\n",
       "    </tr>\n",
       "    <tr>\n",
       "      <th>5</th>\n",
       "      <td>2.6235</td>\n",
       "      <td>Bottles and Cages</td>\n",
       "      <td>Accessories</td>\n",
       "      <td>2013</td>\n",
       "    </tr>\n",
       "    <tr>\n",
       "      <th>6</th>\n",
       "      <td>23.7490</td>\n",
       "      <td>Vests</td>\n",
       "      <td>Clothing</td>\n",
       "      <td>2013</td>\n",
       "    </tr>\n",
       "    <tr>\n",
       "      <th>7</th>\n",
       "      <td>3.3623</td>\n",
       "      <td>Socks</td>\n",
       "      <td>Clothing</td>\n",
       "      <td>2013</td>\n",
       "    </tr>\n",
       "    <tr>\n",
       "      <th>8</th>\n",
       "      <td>40.0101</td>\n",
       "      <td>Jerseys</td>\n",
       "      <td>Clothing</td>\n",
       "      <td>2013</td>\n",
       "    </tr>\n",
       "    <tr>\n",
       "      <th>9</th>\n",
       "      <td>9.1593</td>\n",
       "      <td>Gloves</td>\n",
       "      <td>Clothing</td>\n",
       "      <td>2013</td>\n",
       "    </tr>\n",
       "    <tr>\n",
       "      <th>10</th>\n",
       "      <td>6.9223</td>\n",
       "      <td>Caps</td>\n",
       "      <td>Clothing</td>\n",
       "      <td>2013</td>\n",
       "    </tr>\n",
       "    <tr>\n",
       "      <th>11</th>\n",
       "      <td>26.1763</td>\n",
       "      <td>Shorts</td>\n",
       "      <td>Clothing</td>\n",
       "      <td>2013</td>\n",
       "    </tr>\n",
       "  </tbody>\n",
       "</table>\n",
       "</div>"
      ],
      "text/plain": [
       "    AvgTotalProducCost EnglishProductSubcategoryName  \\\n",
       "0               8.2205                       Fenders   \n",
       "1               5.2414               Tires and Tubes   \n",
       "2              20.5663               Hydration Packs   \n",
       "3              59.4660                   Bike Stands   \n",
       "4               2.9733                      Cleaners   \n",
       "5               2.6235             Bottles and Cages   \n",
       "6              23.7490                         Vests   \n",
       "7               3.3623                         Socks   \n",
       "8              40.0101                       Jerseys   \n",
       "9               9.1593                        Gloves   \n",
       "10              6.9223                          Caps   \n",
       "11             26.1763                        Shorts   \n",
       "\n",
       "   EnglishProductCategoryName        \n",
       "0                 Accessories  2013  \n",
       "1                 Accessories  2013  \n",
       "2                 Accessories  2013  \n",
       "3                 Accessories  2013  \n",
       "4                 Accessories  2013  \n",
       "5                 Accessories  2013  \n",
       "6                    Clothing  2013  \n",
       "7                    Clothing  2013  \n",
       "8                    Clothing  2013  \n",
       "9                    Clothing  2013  \n",
       "10                   Clothing  2013  \n",
       "11                   Clothing  2013  "
      ]
     },
     "execution_count": 6,
     "metadata": {},
     "output_type": "execute_result"
    }
   ],
   "source": [
    "df3 = pd.read_sql(\n",
    "    'SELECT AVG(TotalProductCost) AvgTotalProducCost,\\\n",
    "        dpsc.EnglishProductSubcategoryName,\\\n",
    "        dpc.EnglishProductCategoryName,\\\n",
    "        YEAR(f.OrderDate)\\\n",
    "  FROM [AdventureWorksDW2019].[dbo].[FactInternetSales] as f\\\n",
    "  JOIN DimProduct as dp ON dp.ProductKey = f.ProductKey\\\n",
    "  JOIN DimProductSubcategory as dpsc ON dpsc.ProductSubcategoryKey = dp.ProductSubcategoryKey\\\n",
    "  JOIN DimProductCategory as dpc ON dpc.ProductCategoryKey = dpsc.ProductCategoryKey\\\n",
    "  WHERE dpc.EnglishProductCategoryName IN (\\'Clothing\\',  \\'Accessories\\') \\\n",
    "    AND YEAR(f.OrderDate) = 2013 \\\n",
    "    AND MONTH(f.OrderDate) IN (2,3,4) \\\n",
    "    AND dpsc.EnglishProductSubcategoryName NOT IN (\\'Helmets\\',\\'Bike Racks\\') \\\n",
    "  GROUP BY dpc.EnglishProductCategoryName, YEAR(f.OrderDate), dpsc.EnglishProductSubcategoryName\\\n",
    "  ORDER BY YEAR(f.OrderDate) DESC, dpc.EnglishProductCategoryName ASC',\n",
    "    engine,\n",
    "    coerce_float=True)\n",
    "df3"
   ]
  },
  {
   "cell_type": "code",
   "execution_count": 7,
   "metadata": {},
   "outputs": [
    {
     "data": {
      "text/plain": [
       "-0.08772097464883709"
      ]
     },
     "execution_count": 7,
     "metadata": {},
     "output_type": "execute_result"
    }
   ],
   "source": [
    "df_acc = df3[df3.EnglishProductCategoryName == 'Accessories'].AvgTotalProducCost\n",
    "df_clothing = df3[df3.EnglishProductCategoryName == 'Clothing'].AvgTotalProducCost\n",
    "\n",
    "st.correlation(df_acc, df_clothing)"
   ]
  }
 ],
 "metadata": {
  "interpreter": {
   "hash": "1ab139572fced502ccc358823a2324049ac085dd75aeb35bb92b492bdd4cf298"
  },
  "kernelspec": {
   "display_name": "Python 3.9.7 ('MSSQLTips_env')",
   "language": "python",
   "name": "python3"
  },
  "language_info": {
   "codemirror_mode": {
    "name": "ipython",
    "version": 3
   },
   "file_extension": ".py",
   "mimetype": "text/x-python",
   "name": "python",
   "nbconvert_exporter": "python",
   "pygments_lexer": "ipython3",
   "version": "3.10.4"
  },
  "orig_nbformat": 4
 },
 "nbformat": 4,
 "nbformat_minor": 2
}
